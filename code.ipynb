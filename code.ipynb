{
 "cells": [
  {
   "cell_type": "markdown",
   "metadata": {},
   "source": [
    "## Imports, data load, metric function definition"
   ]
  },
  {
   "cell_type": "code",
   "execution_count": 1,
   "metadata": {
    "ExecuteTime": {
     "end_time": "2022-03-18T16:36:25.717266Z",
     "start_time": "2022-03-18T16:36:25.438844Z"
    }
   },
   "outputs": [],
   "source": [
    "import numpy as np\n",
    "import pandas as pd\n",
    "from sklearn.neighbors import BallTree"
   ]
  },
  {
   "cell_type": "code",
   "execution_count": 92,
   "metadata": {
    "ExecuteTime": {
     "end_time": "2022-03-18T18:15:30.631644Z",
     "start_time": "2022-03-18T18:15:30.611553Z"
    }
   },
   "outputs": [],
   "source": [
    "X_train = np.load('X_train_surge.npz')\n",
    "Y_train = pd.read_csv('Y_train_surge.csv')\n",
    "X_test = np.load('X_test_surge.npz')"
   ]
  },
  {
   "cell_type": "code",
   "execution_count": 47,
   "metadata": {
    "ExecuteTime": {
     "end_time": "2022-03-18T17:32:09.734643Z",
     "start_time": "2022-03-18T17:32:09.729572Z"
    }
   },
   "outputs": [
    {
     "data": {
      "text/plain": [
       "True"
      ]
     },
     "execution_count": 47,
     "metadata": {},
     "output_type": "execute_result"
    }
   ],
   "source": [
    "t_slp = X_train['t_slp'] / 3600\n",
    "t_slp_delta = t_slp - t_slp[:, 0].reshape(-1, 1)\n",
    "np.allclose(np.round(t_slp_delta), np.round(t_slp_delta)[0])"
   ]
  },
  {
   "cell_type": "code",
   "execution_count": 102,
   "metadata": {
    "ExecuteTime": {
     "end_time": "2022-03-18T19:09:25.478284Z",
     "start_time": "2022-03-18T19:09:25.469643Z"
    }
   },
   "outputs": [],
   "source": [
    "import torch\n",
    "import torch.nn as nn\n",
    "import torch.nn.functional as F\n",
    "import torch.optim as optim\n",
    "from torchvision import datasets, transforms, models\n",
    "\n",
    "rel_timestamps = np.arange(24*5+1, step=3)[:-1]\n",
    "t_slp_normalisation = 1e5\n",
    "\n",
    "def preprocessing(X, device, slp_mean=None, slp_std=None, t_slp_mean=None, t_slp_std=None,\n",
    "                 surge_mean=None, surge_std=None):\n",
    "    def normalised_tensor(array, mean, std):\n",
    "        return torch.from_numpy((array - mean) / std).to(device)\n",
    "    \n",
    "    slp = X['slp'].reshape(-1, 40, 41, 41)\n",
    "    slp = np.roll(slp, shift=-11, axis=3)\n",
    "    if slp_mean is None:\n",
    "        slp_mean = np.mean(slp)\n",
    "    if slp_std is None:\n",
    "        slp_std = np.std(slp)\n",
    "    slp = normalised_tensor(slp, slp_mean, slp_std)\n",
    "    \n",
    "    fst_slp = X['t_slp'][:, 0] / 3600\n",
    "    fst_slp_tmp = fst_slp.reshape(-1, 1)\n",
    "    \n",
    "    def rel_surge_time(index):\n",
    "        t_surge = X[index] / 3600\n",
    "        return torch.from_numpy(t_surge - fst_slp_tmp).to(device)\n",
    "\n",
    "    t_surge1_in = rel_surge_time('t_surge1_input')\n",
    "    t_surge2_in = rel_surge_time('t_surge2_input')\n",
    "    t_surge1_out = rel_surge_time('t_surge1_output')\n",
    "    t_surge2_out = rel_surge_time('t_surge2_output')\n",
    "    \n",
    "    if t_slp_mean is None:\n",
    "        t_slp_mean = np.mean(fst_slp)\n",
    "    if t_slp_std is None:\n",
    "        t_slp_std = np.std(fst_slp)\n",
    "    fst_slp = normalised_tensor(fst_slp, t_slp_mean, t_slp_std)\n",
    "    \n",
    "    surge1 = X['surge1_input']\n",
    "    surge2 = X['surge2_input']\n",
    "    if surge_mean is None or surge_std is None:\n",
    "        surges = np.concatenate([surge1, surge2], axis=None)\n",
    "        surge_mean = np.mean(surges)\n",
    "        surge_std = np.std(surges)\n",
    "    surge1_in = normalised_tensor(surge1, surge_mean, surge_std)\n",
    "    surge2_in = normalised_tensor(surge2, surge_mean, surge_std)\n",
    "    \n",
    "    return X['id_sequence'], slp, slp_mean, slp_std, \\\n",
    "            fst_slp, t_slp_mean, t_slp_std, \\\n",
    "            t_surge1_in, t_surge2_in, t_surge1_out, t_surge2_out, \\\n",
    "            surge1_in, surge2_in, surge_mean, surge_std"
   ]
  },
  {
   "cell_type": "code",
   "execution_count": 94,
   "metadata": {
    "ExecuteTime": {
     "end_time": "2022-03-18T18:16:23.260880Z",
     "start_time": "2022-03-18T18:16:23.258083Z"
    }
   },
   "outputs": [
    {
     "data": {
      "text/plain": [
       "'cuda:0'"
      ]
     },
     "execution_count": 94,
     "metadata": {},
     "output_type": "execute_result"
    }
   ],
   "source": [
    "device = 'cuda:0' if torch.cuda.is_available() else 'cpu'\n",
    "device"
   ]
  },
  {
   "cell_type": "code",
   "execution_count": 95,
   "metadata": {
    "ExecuteTime": {
     "end_time": "2022-03-18T18:16:26.442847Z",
     "start_time": "2022-03-18T18:16:23.762657Z"
    }
   },
   "outputs": [],
   "source": [
    "train_id_seq, train_slp, slp_mean, slp_std, \\\n",
    "train_fst_slp, t_slp_mean, t_slp_std, \\\n",
    "train_t_surge1_in, train_t_surge2_in, train_t_surge1_out, train_t_surge2_out, \\\n",
    "train_surge1_in, train_surge2_in, surge_mean, surge_std = preprocessing(X_train, device)"
   ]
  },
  {
   "cell_type": "code",
   "execution_count": 96,
   "metadata": {
    "ExecuteTime": {
     "end_time": "2022-03-18T18:16:27.275619Z",
     "start_time": "2022-03-18T18:16:27.075882Z"
    }
   },
   "outputs": [],
   "source": [
    "test_id_seq, test_slp, _, _, \\\n",
    "test_fst_slp, _, _, \\\n",
    "test_t_surge1_in, test_t_surge2_in, test_t_surge1_out, test_t_surge2_out, \\\n",
    "test_surge1_in, test_surge2_in, _, _ = preprocessing(X_test, device, slp_mean, slp_std, t_slp_mean, t_slp_std, surge_mean, surge_std)"
   ]
  },
  {
   "cell_type": "code",
   "execution_count": 79,
   "metadata": {
    "ExecuteTime": {
     "end_time": "2022-03-18T18:09:42.822627Z",
     "start_time": "2022-03-18T18:09:42.818107Z"
    }
   },
   "outputs": [],
   "source": [
    "from torch.utils.data import TensorDataset, DataLoader\n",
    "\n",
    "resnet_versions = {\n",
    "    18 : models.resnet18,\n",
    "    34 : models.resnet34,\n",
    "    50 : models.resnet50,\n",
    "}\n",
    "\n",
    "batch_size = 64\n",
    "\n",
    "# TODO: shuffle train data\n",
    "train_dataset = TensorDataset(\n",
    "    train_slp,\n",
    "#     train_fst_slp,\n",
    "    train_t_surge1_in,\n",
    "    train_surge1_in,\n",
    "    train_t_surge2_in,\n",
    "    train_surge2_in,\n",
    "    train_t_surge1_out,\n",
    "    train_t_surge2_out,\n",
    "#     train_surge1_out, # TODO: add this from Y_train (use surge_mean, surge_std to normalize the tide heights)\n",
    "#     train_surge2_out  # TODO: do the same for the test dataset\n",
    ")\n",
    "train_dataloader = DataLoader(train_dataset, batch_size=batch_size, shuffle=False)\n",
    "\n",
    "test_dataset = TensorDataset(\n",
    "    test_slp,\n",
    "#     test_fst_slp,\n",
    "    test_t_surge1_in,\n",
    "    test_surge1_in,\n",
    "    test_t_surge2_in,\n",
    "    test_surge2_in,\n",
    "    test_t_surge1_out,\n",
    "    test_t_surge2_out\n",
    ")\n",
    "test_dataloader = DataLoader(test_dataset, batch_size=batch_size, shuffle=False)\n",
    "\n",
    "class Conv2d(nn.Conv2d):\n",
    "    \"\"\"Weight standardisation\n",
    "    (see https://arxiv.org/pdf/1903.10520.pdf and https://github.com/joe-siyuan-qiao/WeightStandardization)\n",
    "    \"\"\"\n",
    "\n",
    "    def __init__(self, in_channels, out_channels, kernel_size, stride=1,\n",
    "                 padding=0, dilation=1, groups=1, bias=True):\n",
    "        super(Conv2d, self).__init__(in_channels, out_channels, kernel_size, stride,\n",
    "                 padding, dilation, groups, bias)\n",
    "\n",
    "    def forward(self, x):\n",
    "        weight = self.weight\n",
    "        weight_mean = weight.mean(dim=1, keepdim=True).mean(dim=2,\n",
    "                                  keepdim=True).mean(dim=3, keepdim=True)\n",
    "        weight = weight - weight_mean\n",
    "        std = weight.view(weight.size(0), -1).std(dim=1).view(-1, 1, 1, 1) + 1e-5\n",
    "        weight = weight / std.expand_as(weight)\n",
    "        return F.conv2d(x, weight, self.bias, self.stride,\n",
    "                        self.padding, self.dilation, self.groups)\n",
    "    \n",
    "class Network(nn.Module):\n",
    "    \n",
    "    def __init__(self, resnet_layers, out_features, back_window):\n",
    "        self.resnet = resnet_versions[resnet_layers]()\n",
    "        \n",
    "        # Change the number of out_features from 1000 to `out_features`\n",
    "        self.resnet.fc = nn.Linear(self.resnet.fc.in_features, out_features)\n",
    "        lstm_input_size = out_features + \n",
    "        self.lstm = nn.LSTM(input_size=lstm_input_size, hidden_size=, num_layers=1, bias=True, batch_first=True, \\\n",
    "                            dropout=.2, bidirectional=False, proj_size=0)\n",
    "        # LSTM:\n",
    "        # Add prediction time?\n",
    "        # Learn to associate pressure_mapt to their timestamps\n",
    "        \n",
    "    def forward(self, slp, t_surge1, surge1, t_surge2, surge2):\n",
    "        slp_embeddings self.resnet(slp.unsqueeze(1))\n",
    "        torch.cat([slp_embeddings, ], dim=1)\n",
    "        self.lstm()\n",
    "        \n",
    "        pass"
   ]
  },
  {
   "cell_type": "code",
   "execution_count": 101,
   "metadata": {
    "ExecuteTime": {
     "end_time": "2022-03-18T19:08:10.739894Z",
     "start_time": "2022-03-18T19:08:10.729126Z"
    }
   },
   "outputs": [],
   "source": [
    "loss_weights = torch.linspace(1, 0.1, 10, requires_grad=False)\n",
    "    \n",
    "def surge_prediction_metric(surge1_true, surge_2_true, surge1_pred, surge2_pred):\n",
    "    surge1_score = torch.matmul(torch.square(surge1_true - surge1_pred), loss_weights).mean(dim=1)\n",
    "    surge2_score = torch.matmul(torch.square(surge2_true - surge2_pred), loss_weights).mean(dim=1)\n",
    "\n",
    "    return surge1_score + surge2_score"
   ]
  },
  {
   "cell_type": "code",
   "execution_count": null,
   "metadata": {},
   "outputs": [],
   "source": [
    "def train(model, loss_fn, optmiser, epochs):\n",
    "    train_loss = []\n",
    "    train_acc = []\n",
    "    \n",
    "    for epoch_num in range(epochs):\n",
    "        model.train()\n",
    "        running_loss = []\n",
    "\n",
    "        for batch, (slp, t_surge1_in, surge1_in, t_surge2_in, surge2_in, t_surge1_out, t_surge2_out, surge1_out, surge2_out) in enumerate(train_dataloader):\n",
    "            slp = slp.to(device)\n",
    "            # ...\n",
    "            surge2_out = surge2_out.to(device)\n",
    "            surge1_out_pred, surge2_out_pred = model(slp, t_surge1_in, surge1_in, t_surge2_in, surge2_in, t_surge1_out, t_surge2_out)\n",
    "            \n",
    "            loss = loss_fn(surge1_out, surge2_out, surge1_out_pred, surge2_out_pred)\n",
    "            running_loss.append(loss.item())\n",
    "            \n",
    "            optimiser.zero_grad()\n",
    "            loss.backward()\n",
    "            optimiser.step()\n",
    "            \n",
    "        epoch_loss = np.mean(running_loss)\n",
    "        train_loss.append(epoch_loss)\n",
    "        print(f'Epoch {epoch_num+1:03d} | Loss: {epoch_loss:.4f}')\n",
    "        \n",
    "        if epoch_num % 5 == 0:\n",
    "            test_loss = evaluate(model, loss_fn)\n",
    "            print(f'\\tTest loss: {test_loss:.4f}')\n",
    "        \n",
    "    return train_loss\n",
    "\n",
    "def evaluate(model, loss_fn):\n",
    "    with torch.no_grad():\n",
    "        model.eval()\n",
    "        losses = []\n",
    "        for slp, t_surge1_in, surge1_in, t_surge2_in, surge2_in, t_surge1_out, t_surge2_out, surge1_out, surge2_out in enumerate(test_dataloader):\n",
    "            slp = slp.to(device)\n",
    "            # ...\n",
    "            surge2_out = surge2_out.to(device)\n",
    "            surge1_out_pred, surge2_out_pred = model(slp, t_surge1_in, surge1_in, t_surge2_in, surge2_in, t_surge1_out, t_surge2_out)\n",
    "            \n",
    "            loss = loss_fn(surge1_out, surge2_out, surge1_out_pred, surge2_out_pred)\n",
    "            losses.append(loss.item())\n",
    "        return np.mean(losses)"
   ]
  },
  {
   "cell_type": "code",
   "execution_count": 4,
   "metadata": {},
   "outputs": [],
   "source": [
    "def surge_prediction_metric(dataframe_y_true, dataframe_y_pred):\n",
    "    weights = np.linspace(1, 0.1, 10)[np.newaxis]\n",
    "    surge1_columns = [\n",
    "        'surge1_t0', 'surge1_t1', 'surge1_t2', 'surge1_t3', 'surge1_t4',\n",
    "        'surge1_t5', 'surge1_t6', 'surge1_t7', 'surge1_t8', 'surge1_t9' ]\n",
    "    surge2_columns = [\n",
    "        'surge2_t0', 'surge2_t1', 'surge2_t2', 'surge2_t3', 'surge2_t4',\n",
    "        'surge2_t5', 'surge2_t6', 'surge2_t7', 'surge2_t8', 'surge2_t9' ]\n",
    "    surge1_score = (weights * (dataframe_y_true[surge1_columns].values - dataframe_y_pred[surge1_columns].values)**2).mean()\n",
    "    surge2_score = (weights * (dataframe_y_true[surge2_columns].values - dataframe_y_pred[surge2_columns].values)**2).mean()\n",
    "\n",
    "    return surge1_score + surge2_score"
   ]
  },
  {
   "cell_type": "code",
   "execution_count": null,
   "metadata": {},
   "outputs": [],
   "source": [
    "model = Network(...)\n",
    "optimiser = optim.Adam(model.parameters())\n",
    "_ = train(model, surge_prediction_metric, optmiser, epochs=100)"
   ]
  },
  {
   "cell_type": "markdown",
   "metadata": {},
   "source": [
    "## Benchmark\n",
    "Train using kNN of pressure fields at two instants in time, with 40 neighbours"
   ]
  },
  {
   "cell_type": "code",
   "execution_count": 5,
   "metadata": {},
   "outputs": [],
   "source": [
    "nfields = 2; time_step_slp = 8\n",
    "slp_train = []\n",
    "slp_all = X_train['slp']\n",
    "for i in range(5559):\n",
    "    slp_train.append(np.ndarray.flatten(slp_all[i,-1]))\n",
    "    for j in range(1,nfields):\n",
    "        slp_train[-1] = np.concatenate( ( slp_train[-1], np.ndarray.flatten(slp_all[i,-1-j*time_step_slp]) ) )\n",
    "slp_train = np.array(slp_train)"
   ]
  },
  {
   "cell_type": "code",
   "execution_count": 6,
   "metadata": {},
   "outputs": [],
   "source": [
    "slp_test = []\n",
    "slp_all_test = X_test['slp']\n",
    "for i in range(509):\n",
    "    slp_test.append(np.ndarray.flatten(slp_all_test[i,-1]))\n",
    "    for j in range(1,nfields):\n",
    "        slp_test[-1] = np.concatenate( ( slp_test[-1], np.ndarray.flatten(slp_all_test[i,-1-j*time_step_slp]) ) )\n",
    "slp_test = np.array(slp_test)"
   ]
  },
  {
   "cell_type": "code",
   "execution_count": 7,
   "metadata": {},
   "outputs": [],
   "source": [
    "tree = BallTree(slp_train)"
   ]
  },
  {
   "cell_type": "code",
   "execution_count": 8,
   "metadata": {},
   "outputs": [],
   "source": [
    "surge_test_benchmark = []; k = 40\n",
    "for i in range(509):\n",
    "    dist, ind = tree.query([slp_test[i]], k=k)\n",
    "    surge_test_benchmark.append(np.mean(surge_train[ind[0]], axis=0))\n",
    "surge_test_benchmark = np.array(surge_test_benchmark)"
   ]
  },
  {
   "cell_type": "code",
   "execution_count": 9,
   "metadata": {},
   "outputs": [],
   "source": [
    "y_columns = [f'surge1_t{i}' for i in range(10)] + [f'surge2_t{i}' for i in range(10)]\n",
    "y_test_benchmark = pd.DataFrame(data=surge_test_benchmark, columns=y_columns, index=X_test['id_sequence'])\n",
    "y_test_benchmark.to_csv('Y_test_benchmark.csv', index_label='id_sequence', sep=',')"
   ]
  }
 ],
 "metadata": {
  "kernelspec": {
   "display_name": "Python 3 (ipykernel)",
   "language": "python",
   "name": "python3"
  },
  "language_info": {
   "codemirror_mode": {
    "name": "ipython",
    "version": 3
   },
   "file_extension": ".py",
   "mimetype": "text/x-python",
   "name": "python",
   "nbconvert_exporter": "python",
   "pygments_lexer": "ipython3",
   "version": "3.9.7"
  },
  "latex_envs": {
   "LaTeX_envs_menu_present": true,
   "autoclose": true,
   "autocomplete": true,
   "bibliofile": "biblio.bib",
   "cite_by": "apalike",
   "current_citInitial": 1,
   "eqLabelWithNumbers": true,
   "eqNumInitial": 1,
   "hotkeys": {
    "equation": "Ctrl-E",
    "itemize": "Ctrl-I"
   },
   "labels_anchors": false,
   "latex_user_defs": false,
   "report_style_numbering": false,
   "user_envs_cfg": false
  }
 },
 "nbformat": 4,
 "nbformat_minor": 2
}
