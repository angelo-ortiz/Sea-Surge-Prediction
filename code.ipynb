{
 "cells": [
  {
   "cell_type": "markdown",
   "metadata": {},
   "source": [
    "## Imports, data load, metric function definition"
   ]
  },
  {
   "cell_type": "code",
   "execution_count": 1,
   "metadata": {
    "ExecuteTime": {
     "end_time": "2022-03-18T16:36:25.717266Z",
     "start_time": "2022-03-18T16:36:25.438844Z"
    }
   },
   "outputs": [],
   "source": [
    "import numpy as np\n",
    "import pandas as pd\n",
    "from sklearn.neighbors import BallTree"
   ]
  },
  {
   "cell_type": "code",
   "execution_count": 2,
   "metadata": {
    "ExecuteTime": {
     "end_time": "2022-03-18T16:36:27.701297Z",
     "start_time": "2022-03-18T16:36:27.683230Z"
    }
   },
   "outputs": [],
   "source": [
    "X_train = np.load('X_train_surge.npz')\n",
    "Y_train = pd.read_csv('Y_train_surge.csv')\n",
    "X_test = np.load('X_test_surge.npz')"
   ]
  },
  {
   "cell_type": "code",
   "execution_count": 11,
   "metadata": {
    "ExecuteTime": {
     "end_time": "2022-03-18T17:00:17.201628Z",
     "start_time": "2022-03-18T17:00:15.705902Z"
    }
   },
   "outputs": [
    {
     "data": {
      "text/plain": [
       "(40, 41, 41)"
      ]
     },
     "execution_count": 11,
     "metadata": {},
     "output_type": "execute_result"
    }
   ],
   "source": [
    "X_train['slp'][0].shape"
   ]
  },
  {
   "cell_type": "code",
   "execution_count": 10,
   "metadata": {
    "ExecuteTime": {
     "end_time": "2022-03-18T16:59:11.241434Z",
     "start_time": "2022-03-18T16:59:11.239427Z"
    }
   },
   "outputs": [],
   "source": [
    "import torch\n",
    "\n",
    "def preprocessing(X, device):\n",
    "    slps = torch.from_numpy(X['slp']).to(device)\n",
    "    \n",
    "    \n",
    "    \n",
    "    return x['id_seq'], slps, t_slps, "
   ]
  },
  {
   "cell_type": "code",
   "execution_count": 9,
   "metadata": {
    "ExecuteTime": {
     "end_time": "2022-03-18T16:56:00.940053Z",
     "start_time": "2022-03-18T16:56:00.937163Z"
    }
   },
   "outputs": [
    {
     "name": "stdout",
     "output_type": "stream",
     "text": [
      "id_sequence\n",
      "slp\n",
      "t_slp\n",
      "t_surge1_input\n",
      "surge1_input\n",
      "t_surge2_input\n",
      "surge2_input\n",
      "t_surge1_output\n",
      "t_surge2_output\n"
     ]
    }
   ],
   "source": [
    "for f in X_train.files:\n",
    "    print(f)"
   ]
  },
  {
   "cell_type": "code",
   "execution_count": 8,
   "metadata": {
    "ExecuteTime": {
     "end_time": "2022-03-18T16:45:09.303455Z",
     "start_time": "2022-03-18T16:45:09.291414Z"
    }
   },
   "outputs": [
    {
     "data": {
      "text/plain": [
       "array([-6.306624e+08, -6.306192e+08, -6.305760e+08, -6.305328e+08,\n",
       "       -6.304860e+08, -6.304428e+08, -6.303996e+08, -6.303528e+08,\n",
       "       -6.303096e+08, -6.302664e+08], dtype=float32)"
      ]
     },
     "execution_count": 8,
     "metadata": {},
     "output_type": "execute_result"
    }
   ],
   "source": [
    "X_train['t_surge1_output'][0]"
   ]
  },
  {
   "cell_type": "code",
   "execution_count": 7,
   "metadata": {
    "ExecuteTime": {
     "end_time": "2022-03-18T16:41:05.861768Z",
     "start_time": "2022-03-18T16:41:05.847979Z"
    }
   },
   "outputs": [
    {
     "data": {
      "text/plain": [
       "array([-6.297696e+08, -6.297588e+08, -6.297480e+08, -6.297372e+08,\n",
       "       -6.297264e+08, -6.297156e+08, -6.297048e+08, -6.296940e+08,\n",
       "       -6.296832e+08, -6.296724e+08, -6.296616e+08, -6.296508e+08,\n",
       "       -6.296400e+08, -6.296292e+08, -6.296184e+08, -6.296076e+08,\n",
       "       -6.295968e+08, -6.295860e+08, -6.295752e+08, -6.295644e+08,\n",
       "       -6.295536e+08, -6.295428e+08, -6.295320e+08, -6.295212e+08,\n",
       "       -6.295104e+08, -6.294996e+08, -6.294888e+08, -6.294780e+08,\n",
       "       -6.294672e+08, -6.294564e+08, -6.294456e+08, -6.294348e+08,\n",
       "       -6.294240e+08, -6.294132e+08, -6.294024e+08, -6.293916e+08,\n",
       "       -6.293808e+08, -6.293700e+08, -6.293592e+08, -6.293484e+08],\n",
       "      dtype=float32)"
      ]
     },
     "execution_count": 7,
     "metadata": {},
     "output_type": "execute_result"
    }
   ],
   "source": [
    "X_test['t_slp'][0]"
   ]
  },
  {
   "cell_type": "code",
   "execution_count": 6,
   "metadata": {
    "ExecuteTime": {
     "end_time": "2022-03-18T06:32:12.532904Z",
     "start_time": "2022-03-18T06:32:12.529267Z"
    }
   },
   "outputs": [],
   "source": [
    "surge_train = np.array(Y_train)[:,1:]"
   ]
  },
  {
   "cell_type": "code",
   "execution_count": 22,
   "metadata": {
    "ExecuteTime": {
     "end_time": "2022-03-18T08:00:20.821121Z",
     "start_time": "2022-03-18T08:00:20.816227Z"
    }
   },
   "outputs": [
    {
     "data": {
      "text/plain": [
       "array([     0.,  10816.,  21632.,  32384.,  43200.,  54016.,  64768.,\n",
       "        75584.,  86400.,  97216., 108032., 118784., 129600., 140416.,\n",
       "       151168., 161984., 172800., 183616., 194432., 205184., 216000.,\n",
       "       226816., 237568., 248384., 259200., 270016., 280832., 291584.,\n",
       "       302400., 313216., 323968., 334784., 345600., 356416., 367232.,\n",
       "       377984., 388800., 399616., 410368., 421184.], dtype=float32)"
      ]
     },
     "execution_count": 22,
     "metadata": {},
     "output_type": "execute_result"
    }
   ],
   "source": [
    "X_train['t_slp'][1] - X_train['t_slp'][1][0]"
   ]
  },
  {
   "cell_type": "code",
   "execution_count": 20,
   "metadata": {
    "ExecuteTime": {
     "end_time": "2022-03-18T07:48:09.685714Z",
     "start_time": "2022-03-18T07:48:09.674000Z"
    },
    "scrolled": true
   },
   "outputs": [
    {
     "data": {
      "text/plain": [
       "array([-6.311088e+08, -6.310656e+08, -6.310188e+08, -6.309756e+08,\n",
       "       -6.309288e+08, -6.308856e+08, -6.308424e+08, -6.307992e+08,\n",
       "       -6.307524e+08, -6.307092e+08], dtype=float32)"
      ]
     },
     "execution_count": 20,
     "metadata": {},
     "output_type": "execute_result"
    }
   ],
   "source": [
    "X_train['t_surge1_input'][0]"
   ]
  },
  {
   "cell_type": "code",
   "execution_count": 23,
   "metadata": {
    "ExecuteTime": {
     "end_time": "2022-03-18T08:27:53.111441Z",
     "start_time": "2022-03-18T08:27:53.108084Z"
    }
   },
   "outputs": [
    {
     "data": {
      "text/plain": [
       "array([-0.54593754,  0.13110517,  0.31880018,  0.19478741, -0.22752637,\n",
       "       -0.4018146 , -0.87440383, -0.63978505, -1.0755056 , -1.712328  ],\n",
       "      dtype=float32)"
      ]
     },
     "execution_count": 23,
     "metadata": {},
     "output_type": "execute_result"
    }
   ],
   "source": [
    "X_train['surge1_input'][0]"
   ]
  },
  {
   "cell_type": "code",
   "execution_count": 10,
   "metadata": {
    "ExecuteTime": {
     "end_time": "2022-03-18T07:23:54.827575Z",
     "start_time": "2022-03-18T07:23:54.734146Z"
    }
   },
   "outputs": [],
   "source": [
    "import torch\n",
    "import torch.nn as nn\n",
    "import torch.nn.functional as F\n",
    "from torchvision import datasets, transforms, models\n",
    "\n",
    "resnet_versions = {\n",
    "    18 : models.resnet18,\n",
    "    34 : models.resnet34,\n",
    "    50 : models.resnet50,\n",
    "}\n",
    "\n",
    "class Conv2d(nn.Conv2d):\n",
    "    \"\"\"Weight standardisation\n",
    "    (see https://arxiv.org/pdf/1903.10520.pdf and https://github.com/joe-siyuan-qiao/WeightStandardization)\n",
    "    \"\"\"\n",
    "\n",
    "    def __init__(self, in_channels, out_channels, kernel_size, stride=1,\n",
    "                 padding=0, dilation=1, groups=1, bias=True):\n",
    "        super(Conv2d, self).__init__(in_channels, out_channels, kernel_size, stride,\n",
    "                 padding, dilation, groups, bias)\n",
    "\n",
    "    def forward(self, x):\n",
    "        weight = self.weight\n",
    "        weight_mean = weight.mean(dim=1, keepdim=True).mean(dim=2,\n",
    "                                  keepdim=True).mean(dim=3, keepdim=True)\n",
    "        weight = weight - weight_mean\n",
    "        std = weight.view(weight.size(0), -1).std(dim=1).view(-1, 1, 1, 1) + 1e-5\n",
    "        weight = weight / std.expand_as(weight)\n",
    "        return F.conv2d(x, weight, self.bias, self.stride,\n",
    "                        self.padding, self.dilation, self.groups)\n",
    "    \n",
    "class Network(nn.Module):\n",
    "    \n",
    "    def __init__(self, resnet_layers):\n",
    "        self.resnet = resnet_versions[resnet_layers]()\n",
    "        self.resnet.fc = nn.Linear(self.resnet.fc.in_features, _out_features_)\n",
    "        # LSTM:\n",
    "        # Add prediction time?\n",
    "        # Learn to associate pressure_mapt to their timestamps\n",
    "        \n",
    "    def forward(self, ):"
   ]
  },
  {
   "cell_type": "code",
   "execution_count": 4,
   "metadata": {},
   "outputs": [],
   "source": [
    "def surge_prediction_metric(dataframe_y_true, dataframe_y_pred):\n",
    "    weights = np.linspace(1, 0.1, 10)[np.newaxis]\n",
    "    surge1_columns = [\n",
    "        'surge1_t0', 'surge1_t1', 'surge1_t2', 'surge1_t3', 'surge1_t4',\n",
    "        'surge1_t5', 'surge1_t6', 'surge1_t7', 'surge1_t8', 'surge1_t9' ]\n",
    "    surge2_columns = [\n",
    "        'surge2_t0', 'surge2_t1', 'surge2_t2', 'surge2_t3', 'surge2_t4',\n",
    "        'surge2_t5', 'surge2_t6', 'surge2_t7', 'surge2_t8', 'surge2_t9' ]\n",
    "    surge1_score = (weights * (dataframe_y_true[surge1_columns].values - dataframe_y_pred[surge1_columns].values)**2).mean()\n",
    "    surge2_score = (weights * (dataframe_y_true[surge2_columns].values - dataframe_y_pred[surge2_columns].values)**2).mean()\n",
    "\n",
    "    return surge1_score + surge2_score"
   ]
  },
  {
   "cell_type": "markdown",
   "metadata": {},
   "source": [
    "## Benchmark\n",
    "Train using kNN of pressure fields at two instants in time, with 40 neighbours"
   ]
  },
  {
   "cell_type": "code",
   "execution_count": 5,
   "metadata": {},
   "outputs": [],
   "source": [
    "nfields = 2; time_step_slp = 8\n",
    "slp_train = []\n",
    "slp_all = X_train['slp']\n",
    "for i in range(5559):\n",
    "    slp_train.append(np.ndarray.flatten(slp_all[i,-1]))\n",
    "    for j in range(1,nfields):\n",
    "        slp_train[-1] = np.concatenate( ( slp_train[-1], np.ndarray.flatten(slp_all[i,-1-j*time_step_slp]) ) )\n",
    "slp_train = np.array(slp_train)"
   ]
  },
  {
   "cell_type": "code",
   "execution_count": 6,
   "metadata": {},
   "outputs": [],
   "source": [
    "slp_test = []\n",
    "slp_all_test = X_test['slp']\n",
    "for i in range(509):\n",
    "    slp_test.append(np.ndarray.flatten(slp_all_test[i,-1]))\n",
    "    for j in range(1,nfields):\n",
    "        slp_test[-1] = np.concatenate( ( slp_test[-1], np.ndarray.flatten(slp_all_test[i,-1-j*time_step_slp]) ) )\n",
    "slp_test = np.array(slp_test)"
   ]
  },
  {
   "cell_type": "code",
   "execution_count": 7,
   "metadata": {},
   "outputs": [],
   "source": [
    "tree = BallTree(slp_train)"
   ]
  },
  {
   "cell_type": "code",
   "execution_count": 8,
   "metadata": {},
   "outputs": [],
   "source": [
    "surge_test_benchmark = []; k = 40\n",
    "for i in range(509):\n",
    "    dist, ind = tree.query([slp_test[i]], k=k)\n",
    "    surge_test_benchmark.append(np.mean(surge_train[ind[0]], axis=0))\n",
    "surge_test_benchmark = np.array(surge_test_benchmark)"
   ]
  },
  {
   "cell_type": "code",
   "execution_count": 9,
   "metadata": {},
   "outputs": [],
   "source": [
    "y_columns = [f'surge1_t{i}' for i in range(10)] + [f'surge2_t{i}' for i in range(10)]\n",
    "y_test_benchmark = pd.DataFrame(data=surge_test_benchmark, columns=y_columns, index=X_test['id_sequence'])\n",
    "y_test_benchmark.to_csv('Y_test_benchmark.csv', index_label='id_sequence', sep=',')"
   ]
  }
 ],
 "metadata": {
  "kernelspec": {
   "display_name": "Python 3 (ipykernel)",
   "language": "python",
   "name": "python3"
  },
  "language_info": {
   "codemirror_mode": {
    "name": "ipython",
    "version": 3
   },
   "file_extension": ".py",
   "mimetype": "text/x-python",
   "name": "python",
   "nbconvert_exporter": "python",
   "pygments_lexer": "ipython3",
   "version": "3.9.7"
  },
  "latex_envs": {
   "LaTeX_envs_menu_present": true,
   "autoclose": true,
   "autocomplete": true,
   "bibliofile": "biblio.bib",
   "cite_by": "apalike",
   "current_citInitial": 1,
   "eqLabelWithNumbers": true,
   "eqNumInitial": 1,
   "hotkeys": {
    "equation": "Ctrl-E",
    "itemize": "Ctrl-I"
   },
   "labels_anchors": false,
   "latex_user_defs": false,
   "report_style_numbering": false,
   "user_envs_cfg": false
  }
 },
 "nbformat": 4,
 "nbformat_minor": 2
}
